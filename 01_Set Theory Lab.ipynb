{
 "cells": [
  {
   "cell_type": "markdown",
   "metadata": {},
   "source": [
    "## Part 1"
   ]
  },
  {
   "cell_type": "code",
   "execution_count": 24,
   "metadata": {},
   "outputs": [],
   "source": [
    "arr = [9,'g', 'h', 7, 5,'b', 8,'d', 0,'f', 1, 8,'e', 0,'a', 9, 2]"
   ]
  },
  {
   "cell_type": "code",
   "execution_count": 22,
   "metadata": {},
   "outputs": [
    {
     "name": "stdout",
     "output_type": "stream",
     "text": [
      "All characters in the english langauge {'t', 'o', 'e', 'n', 'm', 'w', 'y', 'a', 'd', 'j', 'u', 'x', 'b', 'v', 'q', 'r', 'z', 'k', 'h', 'g', 'f', 'l', 's', 'c', 'i', 'p'}\n"
     ]
    }
   ],
   "source": [
    "import string\n",
    "\n",
    "# To speed this up. We are giving you the all_letters set \n",
    "# that contains all the letters in the english language\n",
    "\n",
    "set_letters = set(string.ascii_lowercase)\n",
    "print(\"All characters in the english langauge {}\".format(set_letters))"
   ]
  },
  {
   "cell_type": "code",
   "execution_count": 7,
   "metadata": {},
   "outputs": [
    {
     "name": "stdout",
     "output_type": "stream",
     "text": [
      "Set of numbers {0, 1, 2, 3, 4, 5, 6, 7, 8, 9}\n"
     ]
    }
   ],
   "source": [
    "# First generate a set of numbers from 0 to 9 using numpy \n",
    "import numpy as np \n",
    "\n",
    "set_numbers = set(np.arange(10))\n",
    "print(\"Set of numbers {}\".format(set_numbers))"
   ]
  },
  {
   "cell_type": "code",
   "execution_count": 25,
   "metadata": {},
   "outputs": [
    {
     "name": "stdout",
     "output_type": "stream",
     "text": [
      "Set of only numbers {0, 1, 2, 5, 7, 8, 9}\n"
     ]
    }
   ],
   "source": [
    "# How do we get only numbers from the array?  \n",
    "arr_set = set(arr)\n",
    "set_only_numbers = arr_set - set_letters ## Difference between sets arr_set and letters\n",
    "print(\"Set of only numbers {}\".format(set_only_numbers))"
   ]
  },
  {
   "cell_type": "code",
   "execution_count": 26,
   "metadata": {},
   "outputs": [
    {
     "name": "stdout",
     "output_type": "stream",
     "text": [
      "Set of only letters {'d', 'f', 'b', 'e', 'g', 'a', 'h'}\n"
     ]
    }
   ],
   "source": [
    "# How do we get only letters from the array? \n",
    "set_only_letters = arr_set - set_numbers ## difference between arr_set and numbers \n",
    "print(\"Set of only letters {}\".format(set_only_letters))"
   ]
  },
  {
   "cell_type": "code",
   "execution_count": 27,
   "metadata": {},
   "outputs": [
    {
     "name": "stdout",
     "output_type": "stream",
     "text": [
      "One possible combination of is the following set {0, 'd', 1, 2, 5, 7, 8, 'e', 9}\n"
     ]
    }
   ],
   "source": [
    "# How do we get 2 chars and rest letters from the array? \n",
    "# pick two alphabets and make a set\n",
    "alpha_subset = {'d', 'e'} ## We need to make a sent of alphabets d and e \n",
    "twochar_set = alpha_subset |  set_only_numbers ## We need to combine the two alphabet set and numbers only set \n",
    "print(\"One possible combination of is the following set {}\".format(twochar_set))"
   ]
  },
  {
   "cell_type": "code",
   "execution_count": 28,
   "metadata": {},
   "outputs": [
    {
     "name": "stdout",
     "output_type": "stream",
     "text": [
      "One possible combination of is the following set {'d', 2, 'f', 'b', 'h', 9, 'e', 'a', 'g'}\n"
     ]
    }
   ],
   "source": [
    "# How do we get 2 chars and rest letters from the array? \n",
    "\n",
    "# pick two alphabets and make a set\n",
    "num_subset = {2, 9} ## Make a set of two numbers of 2 and 9\n",
    "twonum_set = num_subset |  set_only_letters ## Similar to the problem above combine the num subset with only letters\n",
    "print(\"One possible combination of is the following set {}\".format(twonum_set))"
   ]
  },
  {
   "cell_type": "code",
   "execution_count": 35,
   "metadata": {},
   "outputs": [
    {
     "name": "stdout",
     "output_type": "stream",
     "text": [
      " Subsample from arr_set [1, 'b', 'd', 5, 'e']\n"
     ]
    }
   ],
   "source": [
    "# Next is random sampling from a set. We can do this by doing using the random sample function\n",
    "# from the random library \n",
    "import random\n",
    "\n",
    "# Make sure that random seed is set to 1  \n",
    "random.seed(1)\n",
    "subsample = random.sample(arr_set, 5) ## the module random has a function sample use that to get 5 elements from arr_set\n",
    "print(\" Subsample from arr_set {}\".format(subsample))\n",
    "\n",
    "# The seed() method is used to initialize the random number generator.\n",
    "# The random number generator needs a number to start with (a seed value), to be able to generate a random number.\n",
    "# Use the seed() method to customize the start number of the random number generator.\n",
    "# https://www.w3schools.com/python/ref_random_seed.asp"
   ]
  },
  {
   "cell_type": "markdown",
   "metadata": {},
   "source": [
    "## Part 2"
   ]
  },
  {
   "cell_type": "code",
   "execution_count": 37,
   "metadata": {},
   "outputs": [
    {
     "name": "stdout",
     "output_type": "stream",
     "text": [
      "S is a subset of P: False\n"
     ]
    }
   ],
   "source": [
    "P = [4,6,12,1,6,7,14,17,5,13,8,9,19,16,19,5,15,15,0,18]\n",
    "S = [5,0,3,11,3,7,9,3,5,2]\n",
    "\n",
    "P_set = set(P)\n",
    "S_set = set(S)\n",
    "\n",
    "is_subset = S_set.issubset(P_set)## Check if S is a subset of P\n",
    "\n",
    "print(\"S is a subset of P: {}\".format(is_subset))"
   ]
  },
  {
   "cell_type": "code",
   "execution_count": 38,
   "metadata": {},
   "outputs": [
    {
     "name": "stdout",
     "output_type": "stream",
     "text": [
      "Elements common to both P and S are {0, 9, 5, 7}\n"
     ]
    }
   ],
   "source": [
    "# If S is not a subset of P then create a new set with elements of S which also exist in P, using set operations.\n",
    "P_intersect_S = P_set & S_set ## Get the intersection of sets P and S \n",
    "print(\"Elements common to both P and S are {}\".format(P_intersect_S))"
   ]
  },
  {
   "cell_type": "code",
   "execution_count": 39,
   "metadata": {},
   "outputs": [
    {
     "name": "stdout",
     "output_type": "stream",
     "text": [
      "Union of set P and S : {0, 1, 2, 3, 4, 5, 6, 7, 8, 9, 11, 12, 13, 14, 15, 16, 17, 18, 19}\n",
      "Difference of set P and S : {1, 4, 6, 8, 12, 13, 14, 15, 16, 17, 18, 19}\n",
      "Difference of set S and P : {11, 2, 3}\n"
     ]
    }
   ],
   "source": [
    "# Union of sets P and s \n",
    "union_PS =  P_set | S_set ## Union of P and S. You have done this before when you combined chars with nums and vice versa \n",
    "\n",
    "# difference P-S \n",
    "difference_PS = P_set - S_set ## Difference between sets P and S\n",
    "\n",
    "# difference S-P\n",
    "\n",
    "difference_SP = S_set - P_set ## Difference between sets S and P  \n",
    "\n",
    "print(\"Union of set P and S : {}\".format(union_PS))\n",
    "print(\"Difference of set P and S : {}\".format(difference_PS))\n",
    "print(\"Difference of set S and P : {}\".format(difference_SP))\n"
   ]
  }
 ],
 "metadata": {
  "kernelspec": {
   "display_name": "Python 3",
   "language": "python",
   "name": "python3"
  },
  "language_info": {
   "codemirror_mode": {
    "name": "ipython",
    "version": 3
   },
   "file_extension": ".py",
   "mimetype": "text/x-python",
   "name": "python",
   "nbconvert_exporter": "python",
   "pygments_lexer": "ipython3",
   "version": "3.7.6"
  }
 },
 "nbformat": 4,
 "nbformat_minor": 4
}
