{
 "cells": [
  {
   "cell_type": "markdown",
   "metadata": {},
   "source": [
    "## David Gitonga"
   ]
  },
  {
   "cell_type": "markdown",
   "metadata": {},
   "source": [
    "## Part 1"
   ]
  },
  {
   "cell_type": "code",
   "execution_count": 1,
   "metadata": {},
   "outputs": [],
   "source": [
    "arr = [9,'g', 'h', 7, 5,'b', 8,'d', 0,'f', 1, 8,'e', 0,'a', 9, 2]\n",
    "arr_set = set(arr)"
   ]
  },
  {
   "cell_type": "code",
   "execution_count": 2,
   "metadata": {},
   "outputs": [
    {
     "name": "stdout",
     "output_type": "stream",
     "text": [
      "all_chars {'g', 'd', 'f', 'h', 'a', 'b', 'e'}\n"
     ]
    }
   ],
   "source": [
    "import numpy as np \n",
    "import string\n",
    "\n",
    "# all the charaters from arr\n",
    "all_chars = arr_set - set(np.arange(10))\n",
    "print(\"all_chars {}\".format(all_chars))"
   ]
  },
  {
   "cell_type": "code",
   "execution_count": 3,
   "metadata": {},
   "outputs": [
    {
     "name": "stdout",
     "output_type": "stream",
     "text": [
      "all_int {0, 1, 2, 5, 7, 8, 9}\n"
     ]
    }
   ],
   "source": [
    "# all the integers from arr\n",
    "all_int = arr_set - all_chars\n",
    "print(\"all_int {}\".format(all_int))"
   ]
  },
  {
   "cell_type": "code",
   "execution_count": 4,
   "metadata": {},
   "outputs": [
    {
     "name": "stdout",
     "output_type": "stream",
     "text": [
      "two_char_int_set {0, 1, 2, 5, 7, 'g', 'd', 8, 9}\n"
     ]
    }
   ],
   "source": [
    "# A set of any 2 characters and all integers from arr\n",
    "import random\n",
    "two_char_int_set = set(random.sample(all_chars, 2)) |  all_int\n",
    "print(\"two_char_int_set {}\".format(two_char_int_set))"
   ]
  },
  {
   "cell_type": "code",
   "execution_count": 14,
   "metadata": {},
   "outputs": [
    {
     "name": "stdout",
     "output_type": "stream",
     "text": [
      "two_char_3int_set {0, 'a', 1, 'e', 7}\n"
     ]
    }
   ],
   "source": [
    "# A set of any 2 ints and any 3 characters from arr\n",
    "two_char_3int_set = set(random.sample(all_chars, 2)) | set(random.sample(all_int, 3))\n",
    "print(\"two_char_3int_set {}\".format(two_char_3int_set))"
   ]
  },
  {
   "cell_type": "code",
   "execution_count": 7,
   "metadata": {},
   "outputs": [
    {
     "name": "stdout",
     "output_type": "stream",
     "text": [
      "random_set {0, 1, 2, 5, 8, 9, 'h', 'f', 'a', 'b', 'e'}\n"
     ]
    }
   ],
   "source": [
    "# all objects in arr except 'g', 'd', 7, 3\n",
    "random_set = arr_set - set(['g', 'd', 7, 3])\n",
    "print(\"random_set {}\".format(random_set))"
   ]
  },
  {
   "cell_type": "markdown",
   "metadata": {},
   "source": [
    "## Part 2"
   ]
  },
  {
   "cell_type": "code",
   "execution_count": 9,
   "metadata": {},
   "outputs": [
    {
     "name": "stdout",
     "output_type": "stream",
     "text": [
      "S is a subset of P: False\n"
     ]
    }
   ],
   "source": [
    "P = [4,6,12,1,6,7,14,17,5,13,8,9,19,16,19,5,15,15,0,18]\n",
    "S = [5,0,3,11,3,7,9,3,5,2]\n",
    "\n",
    "P_set = set(P)\n",
    "S_set = set(S)\n",
    "\n",
    "is_subset = S_set.issubset(P_set)## Check if S is a subset of P\n",
    "\n",
    "print(\"S is a subset of P: {}\".format(is_subset))"
   ]
  },
  {
   "cell_type": "code",
   "execution_count": 10,
   "metadata": {},
   "outputs": [
    {
     "name": "stdout",
     "output_type": "stream",
     "text": [
      "Union of set P and S : {0, 1, 2, 3, 4, 5, 6, 7, 8, 9, 11, 12, 13, 14, 15, 16, 17, 18, 19}\n",
      "Elements common to both P and S are - Intersection {0, 9, 5, 7}\n",
      "Difference of set P and S : {1, 4, 6, 8, 12, 13, 14, 15, 16, 17, 18, 19}\n",
      "Difference of set S and P : {11, 2, 3}\n"
     ]
    }
   ],
   "source": [
    "# If S is not a subset of P then create a new set with elements of S which also exist in P, using set operations.\n",
    "\n",
    "# Union of Sets\n",
    "union_PS =  P_set | S_set ## Union of P and S. You have done this before when you combined chars with nums and vice versa \n",
    "\n",
    "# Intersection of Sets\n",
    "P_intersect_S = P_set & S_set ## Get the intersection of sets P and S \n",
    "\n",
    "# difference P-S \n",
    "difference_PS = P_set - S_set ## Difference between sets P and S\n",
    "\n",
    "# difference S-P\n",
    "difference_SP = S_set - P_set ## Difference between sets S and P  \n",
    "\n",
    "print(\"Union of set P and S : {}\".format(union_PS))\n",
    "print(\"Elements common to both P and S are - Intersection {}\".format(P_intersect_S))\n",
    "print(\"Difference of set P and S : {}\".format(difference_PS))\n",
    "print(\"Difference of set S and P : {}\".format(difference_SP))"
   ]
  },
  {
   "cell_type": "code",
   "execution_count": 13,
   "metadata": {},
   "outputs": [
    {
     "name": "stdout",
     "output_type": "stream",
     "text": [
      "Difference of set U and union P & S : {10, 20, 21, 22, 23, 24, 25, 26, 27, 28, 29, 30, 31, 32, 33, 34, 35, 36, 37, 38, 39, 40, 41, 42, 43, 44, 45, 46, 47, 48, 49, 50}\n"
     ]
    }
   ],
   "source": [
    "set_U = [12, 40, 31, 21, 5, 28, 27, 15, 26, 50, 2, 0, 30, 9, 19, 48, 25, 18, 37, 13, 33, 14, 34, 22, 3, 24,\n",
    "         42, 41, 29, 17, 43, 36, 16, 47, 39, 8, 44, 23, 6, 1, 10, 7, 20, 4, 11, 35, 49, 46, 38, 32, 45]\n",
    "set_U = set(set_U)\n",
    "# Identify the limits (Boundary Values) of set = {set_U - (S ∪ P)}\n",
    "difference_U_PS = set_U - union_PS\n",
    "print(\"Difference of set U and union P & S : {}\".format(difference_U_PS))"
   ]
  }
 ],
 "metadata": {
  "kernelspec": {
   "display_name": "Python 3",
   "language": "python",
   "name": "python3"
  },
  "language_info": {
   "codemirror_mode": {
    "name": "ipython",
    "version": 3
   },
   "file_extension": ".py",
   "mimetype": "text/x-python",
   "name": "python",
   "nbconvert_exporter": "python",
   "pygments_lexer": "ipython3",
   "version": "3.7.6"
  }
 },
 "nbformat": 4,
 "nbformat_minor": 4
}
